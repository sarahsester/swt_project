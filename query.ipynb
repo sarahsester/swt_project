{
 "cells": [
  {
   "cell_type": "markdown",
   "metadata": {},
   "source": [
    "# SPARQL query"
   ]
  },
  {
   "cell_type": "code",
   "execution_count": 69,
   "metadata": {},
   "outputs": [],
   "source": [
    "import pandas as pd\n",
    "import rdflib\n",
    "from SPARQLWrapper import SPARQLWrapper, JSON, CSV"
   ]
  },
  {
   "cell_type": "markdown",
   "metadata": {},
   "source": [
    "### Input parameters"
   ]
  },
  {
   "cell_type": "code",
   "execution_count": 70,
   "metadata": {},
   "outputs": [],
   "source": [
    "#latitude\n",
    "#longitude\n",
    "#radius"
   ]
  },
  {
   "cell_type": "markdown",
   "metadata": {},
   "source": [
    "#### Example setting"
   ]
  },
  {
   "cell_type": "code",
   "execution_count": 97,
   "metadata": {},
   "outputs": [],
   "source": [
    "# endpoint\n",
    "endpoint = 'https://query.wikidata.org/sparql'\n",
    "\n",
    "# query variables\n",
    "latitude  = '49.487777777'\n",
    "longitude = '8.466111111'\n",
    "#obj_class = '' \n",
    "radius    = '15'\n",
    "limit     = '30'"
   ]
  },
  {
   "cell_type": "markdown",
   "metadata": {},
   "source": [
    "### Query"
   ]
  },
  {
   "cell_type": "code",
   "execution_count": 98,
   "metadata": {},
   "outputs": [
    {
     "name": "stdout",
     "output_type": "stream",
     "text": [
      "\n",
      "        prefix bd:       <http://www.bigdata.com/rdf#>\n",
      "        prefix geo:      <http://www.opengis.net/ont/geosparql#>\n",
      "        prefix wd:       <http://www.wikidata.org/entity/>\n",
      "        prefix wdt:      <http://www.wikidata.org/prop/direct/>\n",
      "        prefix wikibase: <http://wikiba.se/ontology#>\n",
      "\n",
      "\n",
      "        SELECT ?xLabel ?x ?somebodyLabel ?somebody ?classLabel ?otherLocation ?dist\n",
      "        WHERE\n",
      "        {\n",
      "          BIND('Point(8.466111111 49.487777777)'^^geo:wktLiteral AS ?currentLocation).\n",
      "          SERVICE wikibase:around {\n",
      "              ?x wdt:P625 ?otherLocation. \n",
      "              bd:serviceParam wikibase:center ?currentLocation. \n",
      "              bd:serviceParam wikibase:radius '15'. \n",
      "          }\n",
      "          # x is named after\n",
      "          ?x wdt:P138 ?somebody .\n",
      "\n",
      "          # which Class is x (e.g. Street, church)\n",
      "          ?x wdt:P31  ?class . \n",
      "          \n",
      "          # x is a Street\n",
      "          #?x wdt:P31 wd:Q79007 .\n",
      "\n",
      "          # hat Staat Deutschland\n",
      "          # ?x wdt:P17  ?Q183 .\n",
      "          \n",
      "          # Retrieve Labels\n",
      "          SERVICE wikibase:label { bd:serviceParam wikibase:language \"de\". } \n",
      "          \n",
      "          # Compute Distance\n",
      "          # BIND(geof:distance(?otherLocation, ?currentLocation) as ?dist) \n",
      "        } \n",
      "\n",
      "        LIMIT 30\n",
      "        #ORDER BY ?dist\n",
      "        \n",
      "        \n"
     ]
    }
   ],
   "source": [
    "query = '''\n",
    "        prefix bd:       <http://www.bigdata.com/rdf#>\n",
    "        prefix geo:      <http://www.opengis.net/ont/geosparql#>\n",
    "        prefix wd:       <http://www.wikidata.org/entity/>\n",
    "        prefix wdt:      <http://www.wikidata.org/prop/direct/>\n",
    "        prefix wikibase: <http://wikiba.se/ontology#>\n",
    "\n",
    "\n",
    "        SELECT ?xLabel ?x ?somebodyLabel ?somebody ?classLabel ?otherLocation ?dist\n",
    "        WHERE\n",
    "        {{\n",
    "          BIND('Point({longitude} {latitude})'^^geo:wktLiteral AS ?currentLocation).\n",
    "          SERVICE wikibase:around {{\n",
    "              ?x wdt:P625 ?otherLocation. \n",
    "              bd:serviceParam wikibase:center ?currentLocation. \n",
    "              bd:serviceParam wikibase:radius '{radius}'. \n",
    "          }}\n",
    "          # x is named after\n",
    "          ?x wdt:P138 ?somebody .\n",
    "\n",
    "          # which Class is x (e.g. Street, church)\n",
    "          ?x wdt:P31  ?class . \n",
    "          \n",
    "          # x is a Street\n",
    "          #?x wdt:P31 wd:Q79007 .\n",
    "\n",
    "          # hat Staat Deutschland\n",
    "          # ?x wdt:P17  ?Q183 .\n",
    "          \n",
    "          # Retrieve Labels\n",
    "          SERVICE wikibase:label {{ bd:serviceParam wikibase:language \"de\". }} \n",
    "          \n",
    "          # Compute Distance\n",
    "          # BIND(geof:distance(?otherLocation, ?currentLocation) as ?dist) \n",
    "        }} \n",
    "\n",
    "        LIMIT {limit}\n",
    "        #ORDER BY ?dist\n",
    "        \n",
    "        '''.format(longitude = longitude, latitude = latitude, radius = radius, limit = limit)\n",
    "print(query)"
   ]
  },
  {
   "cell_type": "code",
   "execution_count": 102,
   "metadata": {},
   "outputs": [
    {
     "data": {
      "text/html": [
       "<div>\n",
       "<style scoped>\n",
       "    .dataframe tbody tr th:only-of-type {\n",
       "        vertical-align: middle;\n",
       "    }\n",
       "\n",
       "    .dataframe tbody tr th {\n",
       "        vertical-align: top;\n",
       "    }\n",
       "\n",
       "    .dataframe thead th {\n",
       "        text-align: right;\n",
       "    }\n",
       "</style>\n",
       "<table border=\"1\" class=\"dataframe\">\n",
       "  <thead>\n",
       "    <tr style=\"text-align: right;\">\n",
       "      <th></th>\n",
       "      <th>x</th>\n",
       "      <th>otherLocation</th>\n",
       "      <th>somebody</th>\n",
       "      <th>xLabel</th>\n",
       "      <th>somebodyLabel</th>\n",
       "      <th>classLabel</th>\n",
       "    </tr>\n",
       "  </thead>\n",
       "  <tbody>\n",
       "    <tr>\n",
       "      <th>0</th>\n",
       "      <td>http://www.wikidata.org/entity/Q1723819</td>\n",
       "      <td>Point(8.61112 49.4717)</td>\n",
       "      <td>http://www.wikidata.org/entity/Q180936</td>\n",
       "      <td>St. Gallus</td>\n",
       "      <td>Gallus</td>\n",
       "      <td>Kirchengebäude</td>\n",
       "    </tr>\n",
       "    <tr>\n",
       "      <th>1</th>\n",
       "      <td>http://www.wikidata.org/entity/Q1867056</td>\n",
       "      <td>Point(8.60811 49.4708)</td>\n",
       "      <td>http://www.wikidata.org/entity/Q1286608</td>\n",
       "      <td>Lobdengau-Museum</td>\n",
       "      <td>Lobdengau</td>\n",
       "      <td>Museum</td>\n",
       "    </tr>\n",
       "    <tr>\n",
       "      <th>2</th>\n",
       "      <td>http://www.wikidata.org/entity/Q2145184</td>\n",
       "      <td>Point(8.55738 49.55607)</td>\n",
       "      <td>http://www.wikidata.org/entity/Q16055</td>\n",
       "      <td>Viernheimer Dreieck</td>\n",
       "      <td>Viernheim</td>\n",
       "      <td>Autobahndreieck</td>\n",
       "    </tr>\n",
       "    <tr>\n",
       "      <th>3</th>\n",
       "      <td>http://www.wikidata.org/entity/Q2316559</td>\n",
       "      <td>Point(8.48053 49.562)</td>\n",
       "      <td>http://www.wikidata.org/entity/Q45581</td>\n",
       "      <td>St.-Michael-Kirche</td>\n",
       "      <td>Michael</td>\n",
       "      <td>Kirchengebäude</td>\n",
       "    </tr>\n",
       "    <tr>\n",
       "      <th>4</th>\n",
       "      <td>http://www.wikidata.org/entity/Q2317509</td>\n",
       "      <td>Point(8.64878 49.4241)</td>\n",
       "      <td>http://www.wikidata.org/entity/Q43982</td>\n",
       "      <td>St. Bartholomäus</td>\n",
       "      <td>Bartholomäus</td>\n",
       "      <td>Kirchengebäude</td>\n",
       "    </tr>\n",
       "  </tbody>\n",
       "</table>\n",
       "</div>"
      ],
      "text/plain": [
       "                                         x            otherLocation  \\\n",
       "0  http://www.wikidata.org/entity/Q1723819   Point(8.61112 49.4717)   \n",
       "1  http://www.wikidata.org/entity/Q1867056   Point(8.60811 49.4708)   \n",
       "2  http://www.wikidata.org/entity/Q2145184  Point(8.55738 49.55607)   \n",
       "3  http://www.wikidata.org/entity/Q2316559    Point(8.48053 49.562)   \n",
       "4  http://www.wikidata.org/entity/Q2317509   Point(8.64878 49.4241)   \n",
       "\n",
       "                                  somebody               xLabel somebodyLabel  \\\n",
       "0   http://www.wikidata.org/entity/Q180936           St. Gallus        Gallus   \n",
       "1  http://www.wikidata.org/entity/Q1286608     Lobdengau-Museum     Lobdengau   \n",
       "2    http://www.wikidata.org/entity/Q16055  Viernheimer Dreieck     Viernheim   \n",
       "3    http://www.wikidata.org/entity/Q45581   St.-Michael-Kirche       Michael   \n",
       "4    http://www.wikidata.org/entity/Q43982     St. Bartholomäus  Bartholomäus   \n",
       "\n",
       "        classLabel  \n",
       "0   Kirchengebäude  \n",
       "1           Museum  \n",
       "2  Autobahndreieck  \n",
       "3   Kirchengebäude  \n",
       "4   Kirchengebäude  "
      ]
     },
     "execution_count": 102,
     "metadata": {},
     "output_type": "execute_result"
    }
   ],
   "source": [
    "# Initializing SPARQL Wrapper and querying\n",
    "sparql = SPARQLWrapper(endpoint)\n",
    "sparql.setQuery(query)\n",
    "sparql.setReturnFormat(JSON)\n",
    "results = sparql.query().convert()\n",
    "\n",
    "variables = ['?xLabel', '?x' '?somebodyLabel' '?somebody' '?classLabel' '?otherLocation' '?dist']\n",
    "\n",
    "#display(type(result))\n",
    "#for result in results[\"results\"][\"bindings\"]:\n",
    "#    for i in variables:\n",
    "#        print(result['x'][\"value\"])\n",
    "\n",
    "#results\n",
    "df = pd.DataFrame(results['results']['bindings'])\n",
    "for col in df.columns:\n",
    "    df[col] = df[col].apply(lambda x: x['value'])\n",
    "df.head(5)\n"
   ]
  },
  {
   "cell_type": "code",
   "execution_count": null,
   "metadata": {},
   "outputs": [],
   "source": []
  }
 ],
 "metadata": {
  "kernelspec": {
   "display_name": "Python 3",
   "language": "python",
   "name": "python3"
  },
  "language_info": {
   "codemirror_mode": {
    "name": "ipython",
    "version": 3
   },
   "file_extension": ".py",
   "mimetype": "text/x-python",
   "name": "python",
   "nbconvert_exporter": "python",
   "pygments_lexer": "ipython3",
   "version": "3.6.10"
  }
 },
 "nbformat": 4,
 "nbformat_minor": 4
}
