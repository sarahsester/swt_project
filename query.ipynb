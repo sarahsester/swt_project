{
 "cells": [
  {
   "cell_type": "markdown",
   "metadata": {},
   "source": [
    "# SPARQL query"
   ]
  },
  {
   "cell_type": "code",
   "execution_count": null,
   "metadata": {},
   "outputs": [],
   "source": [
    "import pandas as pd\n",
    "import numpy as np\n",
    "import haversine as hs\n",
    "import rdflib\n",
    "from SPARQLWrapper import SPARQLWrapper, JSON, CSV"
   ]
  },
  {
   "cell_type": "markdown",
   "metadata": {},
   "source": [
    "### Input parameters"
   ]
  },
  {
   "cell_type": "code",
   "execution_count": null,
   "metadata": {},
   "outputs": [],
   "source": [
    "#latitude\n",
    "#longitude\n",
    "#radius"
   ]
  },
  {
   "cell_type": "markdown",
   "metadata": {},
   "source": [
    "#### Example setting"
   ]
  },
  {
   "cell_type": "code",
   "execution_count": null,
   "metadata": {},
   "outputs": [],
   "source": [
    "# endpoint\n",
    "endpoint = 'https://query.wikidata.org/sparql'\n",
    "\n",
    "# query variables\n",
    "latitude  = '49.487777777' # Mannheim\n",
    "longitude = '8.466111111'  # Mannheim\n",
    "\n",
    "#latitude  = '49.410833333333'  # Heidelberg\n",
    "#longitude = '8.7063888888889'  # Heidelberg\n",
    "\n",
    "\n",
    "#obj_class = '' \n",
    "radius    = '15'\n",
    "limit     = '30'"
   ]
  },
  {
   "cell_type": "markdown",
   "metadata": {},
   "source": [
    "### Query\n",
    "\n",
    "Description of the retrieved variables in the sparql query\n",
    "- ?x : Resourcee of the thing (a specific street, chruch, etc.) we search\n",
    "    - ?xLabel : Label of that resource\n",
    "    - ?otherLocation : Coordinates of the respective resource\n",
    "- ?somebody : identifier of the person the resource is named after\n",
    "    - ?somebodyLabel : Label of that person\n",
    "- ?classLabel : What kind of thing are we looking at (church, street, venue...)\n",
    "- ?dist : distance between current location and the location of the retrieved resource\n",
    "\n"
   ]
  },
  {
   "cell_type": "code",
   "execution_count": null,
   "metadata": {},
   "outputs": [],
   "source": [
    "\n",
    "# Query for the table\n",
    "query = '''\n",
    "        prefix bd:       <http://www.bigdata.com/rdf#>\n",
    "        prefix geo:      <http://www.opengis.net/ont/geosparql#>\n",
    "        prefix wd:       <http://www.wikidata.org/entity/>\n",
    "        prefix wdt:      <http://www.wikidata.org/prop/direct/>\n",
    "        prefix wikibase: <http://wikiba.se/ontology#>\n",
    "\n",
    "\n",
    "        SELECT ?xLabel ?x ?somebodyLabel ?somebody ?otherLocation \n",
    "               (GROUP_CONCAT(?classLabel; separator=', ') AS ?classdescription)\n",
    "        WHERE\n",
    "        {{\n",
    "          BIND('Point({longitude} {latitude})'^^geo:wktLiteral AS ?currentLocation).\n",
    "          SERVICE wikibase:around {{\n",
    "              ?x wdt:P625 ?otherLocation. \n",
    "              bd:serviceParam wikibase:center ?currentLocation. \n",
    "              bd:serviceParam wikibase:radius '{radius}'. \n",
    "          }}\n",
    "          # x is named after\n",
    "          ?x wdt:P138 ?somebody .\n",
    "          \n",
    "          # that somebody is a human\n",
    "          ?somebody wdt:P31 wd:Q5 .\n",
    "\n",
    "          # which Class is x (e.g. Street, church)\n",
    "          ?x wdt:P31  ?class . \n",
    "          \n",
    "          # the class has a german label \n",
    "          ?class rdfs:label ?classLabel .\n",
    "          FILTER( lang(?classLabel) = \"de\" )\n",
    "          \n",
    "          # Retrieve Labels\n",
    "          SERVICE wikibase:label {{ bd:serviceParam wikibase:language \"de\". }} \n",
    "          \n",
    "        }} \n",
    "        GROUP BY ?xLabel ?x ?somebodyLabel ?somebody ?otherLocation\n",
    "        LIMIT {limit}\n",
    "        \n",
    "        '''.format(longitude = longitude, latitude = latitude, radius = radius, limit = limit)\n",
    "print(query)"
   ]
  },
  {
   "cell_type": "code",
   "execution_count": null,
   "metadata": {},
   "outputs": [],
   "source": [
    "\n",
    "# Query for the map\n",
    "# mapQuery = '''\n",
    "#<iframe style=\"width: 80vw; height: 50vh; border: none;\" \n",
    "#src=\"https://query.wikidata.org/embed.html#%23defaultView%3AMap%0A%20%20%20%20%20%20%20%20\n",
    "#prefix%20bd%3A%20%20%20%20%20%20%20%3Chttp%3A%2F%2Fwww.bigdata.com%2Frdf%23%3E%0A%20%20%20%20%20%20%20%20\n",
    "#prefix%20geo%3A%20%20%20%20%20%20%3Chttp%3A%2F%2Fwww.opengis.net%2Font%2Fgeosparql%23%3E%0A%20%20%20%20%20%20%20%20\n",
    "#prefix%20wd%3A%20%20%20%20%20%20%20%3Chttp%3A%2F%2Fwww.wikidata.org%2Fentity%2F%3E%0A%20%20%20%20%20%20%20%20\n",
    "#prefix%20wdt%3A%20%20%20%20%20%20%3Chttp%3A%2F%2Fwww.wikidata.org%2Fprop%2Fdirect%2F%3E%0A%20%20%20%20%20%20%20%20\n",
    "#prefix%20wikibase%3A%20%3Chttp%3A%2F%2Fwikiba.se%2Fontology%23%3E%0A%0A%0A%20%20%20%20%20%20%20%20\n",
    "#SELECT%20%3FxLabel%20%3Fx%20%3FsomebodyLabel%20%3Fsomebody%20%3FclassLabel%20%3FotherLocation%20%3Fdist%0A%20%20%20%20%20%20%20%20\n",
    "#WHERE%0A%20%20%20%20%20%20%20%20%7B%0A%20%20%20%20%20%20%20%20%20%20\n",
    "#BIND('Point({longitude}%20{latitude})'%5E%5Egeo%3AwktLiteral%20AS%20%3FcurrentLocation).%0A%20%20%20%20%20%20%20%20%20%20\n",
    "#SERVICE%20wikibase%3Aaround%20%7B%0A%20%20%20%20%20%20%20%20%20%20%20%20%20%20%3Fx%20wdt%3AP625%20%3FotherLocation.%20%0A%20%20%20%20%20%20%20%20%20%20%20%20%20%20\n",
    "#bd%3AserviceParam%20wikibase%3Acenter%20%3FcurrentLocation.%20%0A%20%20%20%20%20%20%20%20%20%20%20%20%20%20\n",
    "#bd%3AserviceParam%20wikibase%3Aradius%20'{radius}'.%20%0A%20%20%20%20%20%20%20%20%20%20%7D%0A%20%20%20%20%20%20%20%20%20%20%23%20\n",
    "#x%20is%20named%20after%0A%20%20%20%20%20%20%20%20%20%20%3Fx%20wdt%3AP138%20%3Fsomebody%20.%0A%0A%20%20%20%20%20%20%20%20%20%20%23%20\n",
    "#which%20Class%20is%20x%20(e.g.%20Street%2C%20church)%0A%20%20%20%20%20%20%20%20%20%20%3Fx%20wdt%3AP31%20%20%3Fclass%20.%20%0A%20%20%20%20%20%20%20%20%20%20%0A%20%20%20%20%20%20%20%20%20%20%23%20\n",
    "#x%20is%20a%20Street%0A%20%20%20%20%20%20%20%20%20%20%23%3Fx%20wdt%3AP31%20wd%3AQ79007%20.%0A%0A%20%20%20%20%20%20%20%20%20%20%23%20\n",
    "#hat%20Staat%20Deutschland%0A%20%20%20%20%20%20%20%20%20%20%23%20%3Fx%20wdt%3AP17%20%20%3FQ183%20.%0A%20%20%20%20%20%20%20%20%20%20%0A%20%20%20%20%20%20%20%20%20%20%23%20Retrieve%20Labels%0A%20%20%20%20%20%20%20%20%20%20\n",
    "#SERVICE%20wikibase%3Alabel%20%7B%20bd%3AserviceParam%20wikibase%3Alanguage%20%22de%22.%20%7D%20%0A%20%20%20%20%20%20%20%20%20%20%0A%20%20%20%20%20%20%20%20%20%20%23%20\n",
    "#Compute%20Distance%0A%20%20%20%20%20%20%20%20%20%20%23%20\n",
    "#BIND(geof%3Adistance(%3FotherLocation%2C%20%3FcurrentLocation)%20as%20%3Fdist)%20%0A%20%20%20%20%20%20%20%20%7D%20%0A%0A%20%20%20%20%20%20%20%20\n",
    "#LIMIT%20{limit}%0A%20%20%20%20%20%20%20%20%23ORDER%20BY%20%3Fdist\" \n",
    "#referrerpolicy=\"origin\" sandbox=\"allow-scripts allow-same-origin allow-popups\"></iframe>'''.format(longitude = longitude, latitude = latitude, radius = radius, limit = limit)\n",
    "\n",
    "mapQuery = '''\n",
    "<iframe style=\"width: 80vw; height: 50vh; border: none;\" src=\"https://query.wikidata.org/embed.html#%23defaultView%3AMap%0A%20%20%20%20%20%20%20%20prefix%20bd%3A%20%20%20%20%20%20%20%3Chttp%3A%2F%2Fwww.bigdata.com%2Frdf%23%3E%0A%20%20%20%20%20%20%20%20prefix%20geo%3A%20%20%20%20%20%20%3Chttp%3A%2F%2Fwww.opengis.net%2Font%2Fgeosparql%23%3E%0A%20%20%20%20%20%20%20%20prefix%20wd%3A%20%20%20%20%20%20%20%3Chttp%3A%2F%2Fwww.wikidata.org%2Fentity%2F%3E%0A%20%20%20%20%20%20%20%20prefix%20wdt%3A%20%20%20%20%20%20%3Chttp%3A%2F%2Fwww.wikidata.org%2Fprop%2Fdirect%2F%3E%0A%20%20%20%20%20%20%20%20prefix%20wikibase%3A%20%3Chttp%3A%2F%2Fwikiba.se%2Fontology%23%3E%0A%0A%0A%20%20%20%20%20%20%20%20SELECT%20%3FxLabel%20%3Fx%20%3FsomebodyLabel%20%3Fsomebody%20%3FotherLocation%20%0A%20%20%20%20%20%20%20%20%20%20%20%20%20%20%20(GROUP_CONCAT(%3FclassLabel%3B%20separator%3D'%2C%20')%20AS%20%3Fclassdescription)%0A%20%20%20%20%20%20%20%20WHERE%0A%20%20%20%20%20%20%20%20%7B%0A%20%20%20%20%20%20%20%20%20%20BIND('Point({longitude}%20{latitude})'%5E%5Egeo%3AwktLiteral%20AS%20%3FcurrentLocation).%0A%20%20%20%20%20%20%20%20%20%20SERVICE%20wikibase%3Aaround%20%7B%0A%20%20%20%20%20%20%20%20%20%20%20%20%20%20%3Fx%20wdt%3AP625%20%3FotherLocation.%20%0A%20%20%20%20%20%20%20%20%20%20%20%20%20%20bd%3AserviceParam%20wikibase%3Acenter%20%3FcurrentLocation.%20%0A%20%20%20%20%20%20%20%20%20%20%20%20%20%20bd%3AserviceParam%20wikibase%3Aradius%20'{radius}'.%20%0A%20%20%20%20%20%20%20%20%20%20%7D%0A%20%20%20%20%20%20%20%20%20%20%23%20x%20is%20named%20after%0A%20%20%20%20%20%20%20%20%20%20%3Fx%20wdt%3AP138%20%3Fsomebody%20.%0A%20%20%20%20%20%20%20%20%20%20%0A%20%20%20%20%20%20%20%20%20%20%23%20that%20somebody%20is%20a%20human%0A%20%20%20%20%20%20%20%20%20%20%3Fsomebody%20wdt%3AP31%20wd%3AQ5%20.%0A%0A%20%20%20%20%20%20%20%20%20%20%23%20which%20Class%20is%20x%20(e.g.%20Street%2C%20church)%0A%20%20%20%20%20%20%20%20%20%20%3Fx%20wdt%3AP31%20%20%3Fclass%20.%20%0A%20%20%20%20%20%20%20%20%20%20%0A%20%20%20%20%20%20%20%20%20%20%23%20the%20class%20has%20a%20german%20label%20%0A%20%20%20%20%20%20%20%20%20%20%3Fclass%20rdfs%3Alabel%20%3FclassLabel%20.%0A%20%20%20%20%20%20%20%20%20%20FILTER(%20lang(%3FclassLabel)%20%3D%20%22de%22%20)%0A%20%20%20%20%20%20%20%20%20%20%0A%20%20%20%20%20%20%20%20%20%20%23%20Retrieve%20Labels%0A%20%20%20%20%20%20%20%20%20%20SERVICE%20wikibase%3Alabel%20%7B%20bd%3AserviceParam%20wikibase%3Alanguage%20%22de%22.%20%7D%20%0A%20%20%20%20%20%20%20%20%20%20%0A%20%20%20%20%20%20%20%20%7D%20%0A%20%20%20%20%20%20%20%20GROUP%20BY%20%3FxLabel%20%3Fx%20%3FsomebodyLabel%20%3Fsomebody%20%3FotherLocation%0A%20%20%20%20%20%20%20%20LIMIT%20{limit}%0A%20%20%20%20%20%20%20%20\" referrerpolicy=\"origin\" sandbox=\"allow-scripts allow-same-origin allow-popups\"></iframe>\n",
    "'''.format(longitude = longitude, latitude = latitude, radius = radius, limit = limit)\n",
    "\n",
    "mapQuery"
   ]
  },
  {
   "cell_type": "code",
   "execution_count": null,
   "metadata": {},
   "outputs": [],
   "source": [
    "# Initializing SPARQL Wrapper and querying\n",
    "sparql = SPARQLWrapper(endpoint)\n",
    "sparql.setQuery(query)\n",
    "sparql.setReturnFormat(JSON)\n",
    "results = sparql.query().convert()\n"
   ]
  },
  {
   "cell_type": "code",
   "execution_count": null,
   "metadata": {},
   "outputs": [],
   "source": [
    "# Initializing function to compute ditance\n",
    "def cumputeDistance(newpoint, currentLongitude, currentLatitude):\n",
    "    newLocation     = np.array([float(x) for x in newpoint[6:-1].split(' ')])\n",
    "    currentLocation = np.array([float(longitude), float(latitude)])\n",
    "    distance = hs.haversine(newLocation,currentLocation)\n",
    "    return distance\n",
    "\n",
    "# Results\n",
    "df = pd.DataFrame(results['results']['bindings'])\n",
    "for col in df.columns:\n",
    "    df[col] = df[col].apply(lambda x: x['value'])\n",
    "\n",
    "# compute ditance    \n",
    "df['distance'] = df['otherLocation'].apply(lambda point: cumputeDistance(point, longitude, latitude))\n",
    "\n",
    "# Sort according to distance\n",
    "df = df.sort_values(by=['distance'])\n",
    "\n",
    "df.head(10)\n",
    "\n"
   ]
  },
  {
   "cell_type": "code",
   "execution_count": null,
   "metadata": {},
   "outputs": [],
   "source": [
    "## Test computing distance between two points\n",
    "\n",
    "# Coordinates of Christuskirche  Q1087367\n",
    "p1 = 'Point(8.4807 49.4846)'\n",
    "\n",
    "# Coordinates of St-Pius-Kirche Q1405432\n",
    "p2 = 'Point(8.51166 49.4798)'\n",
    "\n",
    "loc1 = np.array([float(x) for x in p1[6:-1].split(' ')])\n",
    "loc2 = np.array([float(x) for x in p2[6:-1].split(' ')])\n",
    "\n",
    "# Calculating distance using haversine package | km per default\n",
    "distance = hs.haversine(loc1,loc2)  \n",
    "print('Calculated distance:        ', distance)\n",
    "print('Sparql distance in Wikidata: 2.299291884545297')\n",
    "\n",
    "# Link to control query in wikidata\n",
    "# https://query.wikidata.org/#prefix%20unit%3A%20%3Chttp%3A%2F%2Fqudt.org%2Fvocab%2Funit%23%3E%0A%0ASELECT%20%3Fdist%0AWHERE%20%7B%0A%20%20%23%20Berlin%20coordinates%0A%20%20wd%3AQ1405432%20wdt%3AP625%20%3Floc1.%20%0A%20%20wd%3AQ1087367%20wdt%3AP625%20%3Floc2%20.%0A%20%20%0A%20%20BIND%28geof%3Adistance%28%3Floc1%2C%20%3Floc2%2C%20unit%3AKilometer%29%20as%20%3Fdist%29%20%0A%7D%20%0AORDER%20BY%20%3Fdist"
   ]
  },
  {
   "cell_type": "code",
   "execution_count": null,
   "metadata": {},
   "outputs": [],
   "source": []
  },
  {
   "cell_type": "code",
   "execution_count": null,
   "metadata": {},
   "outputs": [],
   "source": []
  },
  {
   "cell_type": "code",
   "execution_count": null,
   "metadata": {},
   "outputs": [],
   "source": []
  }
 ],
 "metadata": {
  "kernelspec": {
   "display_name": "Python 3",
   "language": "python",
   "name": "python3"
  },
  "language_info": {
   "codemirror_mode": {
    "name": "ipython",
    "version": 3
   },
   "file_extension": ".py",
   "mimetype": "text/x-python",
   "name": "python",
   "nbconvert_exporter": "python",
   "pygments_lexer": "ipython3",
   "version": "3.8.5"
  }
 },
 "nbformat": 4,
 "nbformat_minor": 4
}
