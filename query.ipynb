{
 "cells": [
  {
   "cell_type": "markdown",
   "metadata": {},
   "source": [
    "# SPARQL query"
   ]
  },
  {
   "cell_type": "code",
   "execution_count": 103,
   "metadata": {},
   "outputs": [],
   "source": [
    "import pandas as pd\n",
    "import rdflib\n",
    "from SPARQLWrapper import SPARQLWrapper, JSON, CSV"
   ]
  },
  {
   "cell_type": "markdown",
   "metadata": {},
   "source": [
    "### Input parameters"
   ]
  },
  {
   "cell_type": "code",
   "execution_count": 104,
   "metadata": {},
   "outputs": [],
   "source": [
    "#latitude\n",
    "#longitude\n",
    "#radius"
   ]
  },
  {
   "cell_type": "markdown",
   "metadata": {},
   "source": [
    "#### Example setting"
   ]
  },
  {
   "cell_type": "code",
   "execution_count": 105,
   "metadata": {},
   "outputs": [],
   "source": [
    "# endpoint\n",
    "endpoint = 'https://query.wikidata.org/sparql'\n",
    "\n",
    "# query variables\n",
    "latitude  = '49.487777777'\n",
    "longitude = '8.466111111'\n",
    "#obj_class = '' \n",
    "radius    = '15'\n",
    "limit     = '30'"
   ]
  },
  {
   "cell_type": "markdown",
   "metadata": {},
   "source": [
    "### Query\n",
    "\n",
    "Description of the retrieved variables in the sparql query\n",
    "- ?x : Resourcee of the thing (a specific street, chruch, etc.) we search\n",
    "    - ?xLabel : Label of that resource\n",
    "    - ?otherLocation : Coordinates of the respective resource\n",
    "- ?somebody : identifier of the person the resource is named after\n",
    "    - ?somebodyLabel : Label of that person\n",
    "- ?classLabel : What kind of thing are we looking at (church, street, venue...)\n",
    "- ?dist : distance between current location and the location of the retrieved resource\n",
    "\n"
   ]
  },
  {
   "cell_type": "code",
   "execution_count": 127,
   "metadata": {},
   "outputs": [
    {
     "name": "stdout",
     "output_type": "stream",
     "text": [
      "\n",
      "        prefix bd:       <http://www.bigdata.com/rdf#>\n",
      "        prefix geo:      <http://www.opengis.net/ont/geosparql#>\n",
      "        prefix wd:       <http://www.wikidata.org/entity/>\n",
      "        prefix wdt:      <http://www.wikidata.org/prop/direct/>\n",
      "        prefix wikibase: <http://wikiba.se/ontology#>\n",
      "\n",
      "\n",
      "        SELECT ?xLabel ?x ?somebodyLabel ?somebody ?classLabel ?otherLocation ?dist\n",
      "        WHERE\n",
      "        {\n",
      "          BIND('Point(8.466111111 49.487777777)'^^geo:wktLiteral AS ?currentLocation).\n",
      "          SERVICE wikibase:around {\n",
      "              ?x wdt:P625 ?otherLocation. \n",
      "              bd:serviceParam wikibase:center ?currentLocation. \n",
      "              bd:serviceParam wikibase:radius '15'. \n",
      "          }\n",
      "          # x is named after\n",
      "          ?x wdt:P138 ?somebody .\n",
      "\n",
      "          # which Class is x (e.g. Street, church)\n",
      "          ?x wdt:P31  ?class . \n",
      "          \n",
      "          # x is a Street\n",
      "          #?x wdt:P31 wd:Q79007 .\n",
      "\n",
      "          # hat Staat Deutschland\n",
      "          # ?x wdt:P17  ?Q183 .\n",
      "          \n",
      "          # Retrieve Labels\n",
      "          SERVICE wikibase:label { bd:serviceParam wikibase:language \"de\". } \n",
      "          \n",
      "          # Compute Distance\n",
      "          # BIND(geof:distance(?otherLocation, ?currentLocation) as ?dist) \n",
      "        } \n",
      "\n",
      "        LIMIT 30\n",
      "        #ORDER BY ?dist\n",
      "        \n",
      "        \n"
     ]
    }
   ],
   "source": [
    "\n",
    "# Query for the table\n",
    "query = '''\n",
    "        prefix bd:       <http://www.bigdata.com/rdf#>\n",
    "        prefix geo:      <http://www.opengis.net/ont/geosparql#>\n",
    "        prefix wd:       <http://www.wikidata.org/entity/>\n",
    "        prefix wdt:      <http://www.wikidata.org/prop/direct/>\n",
    "        prefix wikibase: <http://wikiba.se/ontology#>\n",
    "\n",
    "\n",
    "        SELECT ?xLabel ?x ?somebodyLabel ?somebody ?classLabel ?otherLocation ?dist\n",
    "        WHERE\n",
    "        {{\n",
    "          BIND('Point({longitude} {latitude})'^^geo:wktLiteral AS ?currentLocation).\n",
    "          SERVICE wikibase:around {{\n",
    "              ?x wdt:P625 ?otherLocation. \n",
    "              bd:serviceParam wikibase:center ?currentLocation. \n",
    "              bd:serviceParam wikibase:radius '{radius}'. \n",
    "          }}\n",
    "          # x is named after\n",
    "          ?x wdt:P138 ?somebody .\n",
    "\n",
    "          # which Class is x (e.g. Street, church)\n",
    "          ?x wdt:P31  ?class . \n",
    "          \n",
    "          # x is a Street\n",
    "          #?x wdt:P31 wd:Q79007 .\n",
    "\n",
    "          # hat Staat Deutschland\n",
    "          # ?x wdt:P17  ?Q183 .\n",
    "          \n",
    "          # Retrieve Labels\n",
    "          SERVICE wikibase:label {{ bd:serviceParam wikibase:language \"de\". }} \n",
    "          \n",
    "          # Compute Distance\n",
    "          # BIND(geof:distance(?otherLocation, ?currentLocation) as ?dist) \n",
    "        }} \n",
    "\n",
    "        LIMIT {limit}\n",
    "        #ORDER BY ?dist\n",
    "        \n",
    "        '''.format(longitude = longitude, latitude = latitude, radius = radius, limit = limit)\n",
    "print(query)"
   ]
  },
  {
   "cell_type": "code",
   "execution_count": 136,
   "metadata": {},
   "outputs": [
    {
     "data": {
      "text/plain": [
       "'\\n<iframe style=\"width: 80vw; height: 50vh; border: none;\" \\nsrc=\"https://query.wikidata.org/embed.html#%23defaultView%3AMap%0A%20%20%20%20%20%20%20%20\\nprefix%20bd%3A%20%20%20%20%20%20%20%3Chttp%3A%2F%2Fwww.bigdata.com%2Frdf%23%3E%0A%20%20%20%20%20%20%20%20\\nprefix%20geo%3A%20%20%20%20%20%20%3Chttp%3A%2F%2Fwww.opengis.net%2Font%2Fgeosparql%23%3E%0A%20%20%20%20%20%20%20%20\\nprefix%20wd%3A%20%20%20%20%20%20%20%3Chttp%3A%2F%2Fwww.wikidata.org%2Fentity%2F%3E%0A%20%20%20%20%20%20%20%20\\nprefix%20wdt%3A%20%20%20%20%20%20%3Chttp%3A%2F%2Fwww.wikidata.org%2Fprop%2Fdirect%2F%3E%0A%20%20%20%20%20%20%20%20\\nprefix%20wikibase%3A%20%3Chttp%3A%2F%2Fwikiba.se%2Fontology%23%3E%0A%0A%0A%20%20%20%20%20%20%20%20\\nSELECT%20%3FxLabel%20%3Fx%20%3FsomebodyLabel%20%3Fsomebody%20%3FclassLabel%20%3FotherLocation%20%3Fdist%0A%20%20%20%20%20%20%20%20\\nWHERE%0A%20%20%20%20%20%20%20%20%7B%0A%20%20%20%20%20%20%20%20%20%20\\nBIND(\\'Point(8.466111111%2049.487777777)\\'%5E%5Egeo%3AwktLiteral%20AS%20%3FcurrentLocation).%0A%20%20%20%20%20%20%20%20%20%20\\nSERVICE%20wikibase%3Aaround%20%7B%0A%20%20%20%20%20%20%20%20%20%20%20%20%20%20%3Fx%20wdt%3AP625%20%3FotherLocation.%20%0A%20%20%20%20%20%20%20%20%20%20%20%20%20%20\\nbd%3AserviceParam%20wikibase%3Acenter%20%3FcurrentLocation.%20%0A%20%20%20%20%20%20%20%20%20%20%20%20%20%20\\nbd%3AserviceParam%20wikibase%3Aradius%20\\'15\\'.%20%0A%20%20%20%20%20%20%20%20%20%20%7D%0A%20%20%20%20%20%20%20%20%20%20%23%20\\nx%20is%20named%20after%0A%20%20%20%20%20%20%20%20%20%20%3Fx%20wdt%3AP138%20%3Fsomebody%20.%0A%0A%20%20%20%20%20%20%20%20%20%20%23%20\\nwhich%20Class%20is%20x%20(e.g.%20Street%2C%20church)%0A%20%20%20%20%20%20%20%20%20%20%3Fx%20wdt%3AP31%20%20%3Fclass%20.%20%0A%20%20%20%20%20%20%20%20%20%20%0A%20%20%20%20%20%20%20%20%20%20%23%20\\nx%20is%20a%20Street%0A%20%20%20%20%20%20%20%20%20%20%23%3Fx%20wdt%3AP31%20wd%3AQ79007%20.%0A%0A%20%20%20%20%20%20%20%20%20%20%23%20\\nhat%20Staat%20Deutschland%0A%20%20%20%20%20%20%20%20%20%20%23%20%3Fx%20wdt%3AP17%20%20%3FQ183%20.%0A%20%20%20%20%20%20%20%20%20%20%0A%20%20%20%20%20%20%20%20%20%20%23%20Retrieve%20Labels%0A%20%20%20%20%20%20%20%20%20%20\\nSERVICE%20wikibase%3Alabel%20%7B%20bd%3AserviceParam%20wikibase%3Alanguage%20%22de%22.%20%7D%20%0A%20%20%20%20%20%20%20%20%20%20%0A%20%20%20%20%20%20%20%20%20%20%23%20\\nCompute%20Distance%0A%20%20%20%20%20%20%20%20%20%20%23%20\\nBIND(geof%3Adistance(%3FotherLocation%2C%20%3FcurrentLocation)%20as%20%3Fdist)%20%0A%20%20%20%20%20%20%20%20%7D%20%0A%0A%20%20%20%20%20%20%20%20\\nLIMIT%2030%0A%20%20%20%20%20%20%20%20%23ORDER%20BY%20%3Fdist\" \\nreferrerpolicy=\"origin\" sandbox=\"allow-scripts allow-same-origin allow-popups\"></iframe>'"
      ]
     },
     "execution_count": 136,
     "metadata": {},
     "output_type": "execute_result"
    }
   ],
   "source": [
    "\n",
    "# Query for the map\n",
    "mapQuery = '''\n",
    "<iframe style=\"width: 80vw; height: 50vh; border: none;\" \n",
    "src=\"https://query.wikidata.org/embed.html#%23defaultView%3AMap%0A%20%20%20%20%20%20%20%20\n",
    "prefix%20bd%3A%20%20%20%20%20%20%20%3Chttp%3A%2F%2Fwww.bigdata.com%2Frdf%23%3E%0A%20%20%20%20%20%20%20%20\n",
    "prefix%20geo%3A%20%20%20%20%20%20%3Chttp%3A%2F%2Fwww.opengis.net%2Font%2Fgeosparql%23%3E%0A%20%20%20%20%20%20%20%20\n",
    "prefix%20wd%3A%20%20%20%20%20%20%20%3Chttp%3A%2F%2Fwww.wikidata.org%2Fentity%2F%3E%0A%20%20%20%20%20%20%20%20\n",
    "prefix%20wdt%3A%20%20%20%20%20%20%3Chttp%3A%2F%2Fwww.wikidata.org%2Fprop%2Fdirect%2F%3E%0A%20%20%20%20%20%20%20%20\n",
    "prefix%20wikibase%3A%20%3Chttp%3A%2F%2Fwikiba.se%2Fontology%23%3E%0A%0A%0A%20%20%20%20%20%20%20%20\n",
    "SELECT%20%3FxLabel%20%3Fx%20%3FsomebodyLabel%20%3Fsomebody%20%3FclassLabel%20%3FotherLocation%20%3Fdist%0A%20%20%20%20%20%20%20%20\n",
    "WHERE%0A%20%20%20%20%20%20%20%20%7B%0A%20%20%20%20%20%20%20%20%20%20\n",
    "BIND('Point({longitude}%20{latitude})'%5E%5Egeo%3AwktLiteral%20AS%20%3FcurrentLocation).%0A%20%20%20%20%20%20%20%20%20%20\n",
    "SERVICE%20wikibase%3Aaround%20%7B%0A%20%20%20%20%20%20%20%20%20%20%20%20%20%20%3Fx%20wdt%3AP625%20%3FotherLocation.%20%0A%20%20%20%20%20%20%20%20%20%20%20%20%20%20\n",
    "bd%3AserviceParam%20wikibase%3Acenter%20%3FcurrentLocation.%20%0A%20%20%20%20%20%20%20%20%20%20%20%20%20%20\n",
    "bd%3AserviceParam%20wikibase%3Aradius%20'{radius}'.%20%0A%20%20%20%20%20%20%20%20%20%20%7D%0A%20%20%20%20%20%20%20%20%20%20%23%20\n",
    "x%20is%20named%20after%0A%20%20%20%20%20%20%20%20%20%20%3Fx%20wdt%3AP138%20%3Fsomebody%20.%0A%0A%20%20%20%20%20%20%20%20%20%20%23%20\n",
    "which%20Class%20is%20x%20(e.g.%20Street%2C%20church)%0A%20%20%20%20%20%20%20%20%20%20%3Fx%20wdt%3AP31%20%20%3Fclass%20.%20%0A%20%20%20%20%20%20%20%20%20%20%0A%20%20%20%20%20%20%20%20%20%20%23%20\n",
    "x%20is%20a%20Street%0A%20%20%20%20%20%20%20%20%20%20%23%3Fx%20wdt%3AP31%20wd%3AQ79007%20.%0A%0A%20%20%20%20%20%20%20%20%20%20%23%20\n",
    "hat%20Staat%20Deutschland%0A%20%20%20%20%20%20%20%20%20%20%23%20%3Fx%20wdt%3AP17%20%20%3FQ183%20.%0A%20%20%20%20%20%20%20%20%20%20%0A%20%20%20%20%20%20%20%20%20%20%23%20Retrieve%20Labels%0A%20%20%20%20%20%20%20%20%20%20\n",
    "SERVICE%20wikibase%3Alabel%20%7B%20bd%3AserviceParam%20wikibase%3Alanguage%20%22de%22.%20%7D%20%0A%20%20%20%20%20%20%20%20%20%20%0A%20%20%20%20%20%20%20%20%20%20%23%20\n",
    "Compute%20Distance%0A%20%20%20%20%20%20%20%20%20%20%23%20\n",
    "BIND(geof%3Adistance(%3FotherLocation%2C%20%3FcurrentLocation)%20as%20%3Fdist)%20%0A%20%20%20%20%20%20%20%20%7D%20%0A%0A%20%20%20%20%20%20%20%20\n",
    "LIMIT%20{limit}%0A%20%20%20%20%20%20%20%20%23ORDER%20BY%20%3Fdist\" \n",
    "referrerpolicy=\"origin\" sandbox=\"allow-scripts allow-same-origin allow-popups\"></iframe>'''.format(longitude = longitude, latitude = latitude, radius = radius, limit = limit)\n",
    "\n",
    "mapQuery"
   ]
  },
  {
   "cell_type": "code",
   "execution_count": 135,
   "metadata": {},
   "outputs": [
    {
     "data": {
      "text/html": [
       "<div>\n",
       "<style scoped>\n",
       "    .dataframe tbody tr th:only-of-type {\n",
       "        vertical-align: middle;\n",
       "    }\n",
       "\n",
       "    .dataframe tbody tr th {\n",
       "        vertical-align: top;\n",
       "    }\n",
       "\n",
       "    .dataframe thead th {\n",
       "        text-align: right;\n",
       "    }\n",
       "</style>\n",
       "<table border=\"1\" class=\"dataframe\">\n",
       "  <thead>\n",
       "    <tr style=\"text-align: right;\">\n",
       "      <th></th>\n",
       "      <th>x</th>\n",
       "      <th>otherLocation</th>\n",
       "      <th>somebody</th>\n",
       "      <th>xLabel</th>\n",
       "      <th>somebodyLabel</th>\n",
       "      <th>classLabel</th>\n",
       "    </tr>\n",
       "  </thead>\n",
       "  <tbody>\n",
       "    <tr>\n",
       "      <th>0</th>\n",
       "      <td>http://www.wikidata.org/entity/Q1614987</td>\n",
       "      <td>Point(8.38837 49.3826)</td>\n",
       "      <td>http://www.wikidata.org/entity/Q408284</td>\n",
       "      <td>Herz-Jesu-Kirche (Schifferstadt)</td>\n",
       "      <td>Heiligstes Herz Jesu</td>\n",
       "      <td>Kirchengebäude</td>\n",
       "    </tr>\n",
       "    <tr>\n",
       "      <th>1</th>\n",
       "      <td>http://www.wikidata.org/entity/Q1876995</td>\n",
       "      <td>Point(8.26511 49.482)</td>\n",
       "      <td>http://www.wikidata.org/entity/Q128538</td>\n",
       "      <td>Lukaskirche (Birkenheide)</td>\n",
       "      <td>Lukas der Evangelist</td>\n",
       "      <td>Kirchengebäude</td>\n",
       "    </tr>\n",
       "    <tr>\n",
       "      <th>2</th>\n",
       "      <td>http://www.wikidata.org/entity/Q2323109</td>\n",
       "      <td>Point(8.52368 49.3679)</td>\n",
       "      <td>http://www.wikidata.org/entity/Q183332</td>\n",
       "      <td>St. Sebastian (Ketsch)</td>\n",
       "      <td>Sebastian</td>\n",
       "      <td>Kirchengebäude</td>\n",
       "    </tr>\n",
       "    <tr>\n",
       "      <th>3</th>\n",
       "      <td>http://www.wikidata.org/entity/Q18289282</td>\n",
       "      <td>Point(8.377311 49.37734)</td>\n",
       "      <td>http://www.wikidata.org/entity/Q17590</td>\n",
       "      <td>St. Laurentius</td>\n",
       "      <td>Laurentius von Rom</td>\n",
       "      <td>Pfarrkirche</td>\n",
       "    </tr>\n",
       "    <tr>\n",
       "      <th>4</th>\n",
       "      <td>http://www.wikidata.org/entity/Q62068843</td>\n",
       "      <td>Point(8.48364 49.3887)</td>\n",
       "      <td>http://www.wikidata.org/entity/Q1779411</td>\n",
       "      <td>Kollerinsel</td>\n",
       "      <td>Kollerinsel</td>\n",
       "      <td>Landschaftsschutzgebiet</td>\n",
       "    </tr>\n",
       "  </tbody>\n",
       "</table>\n",
       "</div>"
      ],
      "text/plain": [
       "                                          x             otherLocation  \\\n",
       "0   http://www.wikidata.org/entity/Q1614987    Point(8.38837 49.3826)   \n",
       "1   http://www.wikidata.org/entity/Q1876995     Point(8.26511 49.482)   \n",
       "2   http://www.wikidata.org/entity/Q2323109    Point(8.52368 49.3679)   \n",
       "3  http://www.wikidata.org/entity/Q18289282  Point(8.377311 49.37734)   \n",
       "4  http://www.wikidata.org/entity/Q62068843    Point(8.48364 49.3887)   \n",
       "\n",
       "                                  somebody                            xLabel  \\\n",
       "0   http://www.wikidata.org/entity/Q408284  Herz-Jesu-Kirche (Schifferstadt)   \n",
       "1   http://www.wikidata.org/entity/Q128538         Lukaskirche (Birkenheide)   \n",
       "2   http://www.wikidata.org/entity/Q183332            St. Sebastian (Ketsch)   \n",
       "3    http://www.wikidata.org/entity/Q17590                    St. Laurentius   \n",
       "4  http://www.wikidata.org/entity/Q1779411                       Kollerinsel   \n",
       "\n",
       "          somebodyLabel               classLabel  \n",
       "0  Heiligstes Herz Jesu           Kirchengebäude  \n",
       "1  Lukas der Evangelist           Kirchengebäude  \n",
       "2             Sebastian           Kirchengebäude  \n",
       "3    Laurentius von Rom              Pfarrkirche  \n",
       "4           Kollerinsel  Landschaftsschutzgebiet  "
      ]
     },
     "execution_count": 135,
     "metadata": {},
     "output_type": "execute_result"
    }
   ],
   "source": [
    "# Initializing SPARQL Wrapper and querying\n",
    "sparql = SPARQLWrapper(endpoint)\n",
    "sparql.setQuery(query)\n",
    "sparql.setReturnFormat(JSON)\n",
    "results = sparql.query().convert()\n",
    "\n",
    "\n",
    "#results\n",
    "df = pd.DataFrame(results['results']['bindings'])\n",
    "for col in df.columns:\n",
    "    df[col] = df[col].apply(lambda x: x['value'])\n",
    "df.head(5)\n"
   ]
  },
  {
   "cell_type": "code",
   "execution_count": null,
   "metadata": {},
   "outputs": [],
   "source": []
  },
  {
   "cell_type": "code",
   "execution_count": null,
   "metadata": {},
   "outputs": [],
   "source": []
  },
  {
   "cell_type": "code",
   "execution_count": null,
   "metadata": {},
   "outputs": [],
   "source": []
  }
 ],
 "metadata": {
  "kernelspec": {
   "display_name": "Python 3",
   "language": "python",
   "name": "python3"
  },
  "language_info": {
   "codemirror_mode": {
    "name": "ipython",
    "version": 3
   },
   "file_extension": ".py",
   "mimetype": "text/x-python",
   "name": "python",
   "nbconvert_exporter": "python",
   "pygments_lexer": "ipython3",
   "version": "3.6.10"
  }
 },
 "nbformat": 4,
 "nbformat_minor": 4
}
